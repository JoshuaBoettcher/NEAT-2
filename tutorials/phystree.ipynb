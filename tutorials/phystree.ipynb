{
 "cells": [
  {
   "cell_type": "markdown",
   "metadata": {},
   "source": [
    "# Define morphological models with `neat.PhysTree`\n",
    "The Class `neat.PhysTree` is used to define the physiological parameters of neuron models. It inherits from `neat.MorphTree` and thus has all its functionality. Just as `neat.MorphTree`, instances are initialized based on the standard `.swc` format:"
   ]
  },
  {
   "cell_type": "code",
   "execution_count": 1,
   "metadata": {},
   "outputs": [],
   "source": [
    "from neat import PhysTree\n",
    "ph_tree = PhysTree(file_n='morph/L23PyrBranco.swc')"
   ]
  },
  {
   "cell_type": "markdown",
   "metadata": {},
   "source": [
    "## Defining physiological parameters"
   ]
  },
  {
   "cell_type": "markdown",
   "metadata": {},
   "source": [
    "A `PhysTree` consists of `neat.PhysNode` instances, which inherit from `neat.MorphNode`. Compared to a `MorphNode`, a `PhysNode` has extra attributes (initialized to some default value) defining physiological parameters:"
   ]
  },
  {
   "cell_type": "code",
   "execution_count": 2,
   "metadata": {},
   "outputs": [
    {
     "name": "stdout",
     "output_type": "stream",
     "text": [
      "default c_m node 1: 1.0\n",
      "default r_a node 1: 0.0001\n",
      "default g_shunt node 1: 0.0\n",
      "default currents node 1: {}\n"
     ]
    }
   ],
   "source": [
    "# specific membrance capacitance (uF/cm^2)\n",
    "print('default c_m node 1:', ph_tree[1].c_m)\n",
    "# axial resisitance (MOhm*cm)\n",
    "print('default r_a node 1:', ph_tree[1].r_a)\n",
    "# point-like shunt located at {'node': node.index, 'x': 1.} (uS)\n",
    "print('default g_shunt node 1:', ph_tree[1].g_shunt)\n",
    "# leak and ion channel currents, stored in a dict with\n",
    "# key: 'channel_name', value: [g_max, e_rev]\n",
    "print('default currents node 1:', ph_tree[1].currents)"
   ]
  },
  {
   "cell_type": "markdown",
   "metadata": {},
   "source": [
    "It is not recommended, and for ion channels even forbidden, to set the parameters directly via the nodes. Rather, the parameters should be specified with associated functions of `PhysTree`. These functions accept a `node_arg` keyword argument, which allows selecting a specific set of nodes. Parameters, can be given as `float`, in which case all nodes in `node_arg` will be set to the same value, a `dict` of `{node.index: parameter_value}`, or a callable function where the input is the distance of the middle of the node (`loc = {'node': node.index, 'x': .5}`) to the soma and the output the parameter."
   ]
  },
  {
   "cell_type": "markdown",
   "metadata": {},
   "source": [
    "Let's use `PhysTree.setPhysiology()` to set capacitance (1st argument) and axial resistance (2nd argument) in the whole tree:"
   ]
  },
  {
   "cell_type": "code",
   "execution_count": 3,
   "metadata": {},
   "outputs": [],
   "source": [
    "ph_tree.setPhysiology(lambda x: .8 if x < 60. else 1.6*.8, 100.*1e-6)"
   ]
  },
  {
   "cell_type": "markdown",
   "metadata": {},
   "source": [
    "Here, we defined the capacitance to be $.8$ $\\mu$F/cm$^2$ when the mid-point of the node is less than 60 $\\mu$m from the soma and $1.6*.8$ $\\mu$F/cm$^2$, a common factor to take dendritic spines into account. Axial resistance was set to a constant value throughout the tree."
   ]
  },
  {
   "cell_type": "markdown",
   "metadata": {},
   "source": [
    "To set ion channels (see the 'Ionchannels in NEAT' tutorial on how to create your own ion channels), we must create the ion channel instance first. Here, we'll set a default sodium and potassium channel:"
   ]
  },
  {
   "cell_type": "code",
   "execution_count": 4,
   "metadata": {},
   "outputs": [],
   "source": [
    "from neat.channels.channelcollection.channelcollection import Na_Ta, Kv3_1\n",
    "# create the ion channel instances\n",
    "na_chan = Na_Ta()\n",
    "k_chan = Kv3_1()\n",
    "# set the sodium channel only at the soma, with a reversal of 50 mV\n",
    "ph_tree.addCurrent(na_chan, 1.71*1e6, 50., node_arg=[ph_tree[1]])\n",
    "# set the potassium channel throughout the dendritic tree, at 1/10th \n",
    "# of its somatic conductance, and with a reversal of -85 mV\n",
    "gk_soma = 0.45*1e6\n",
    "ph_tree.addCurrent(k_chan, lambda x: gk_soma if x < .1 else gk_soma/10., -85.)"
   ]
  },
  {
   "cell_type": "markdown",
   "metadata": {},
   "source": [
    "Now, we only have to set the leak current. We have two possibilities for this: (i) we could set the leak current by providing conductance and reversal in the standard way with `PhysTree.setLeakCurrent()` or (ii) with could fit the leak current to fix equilibrium potential and membrane time scale (if possible) with `PhysTree.fitLeakCurrent()`. We take the second option here:"
   ]
  },
  {
   "cell_type": "code",
   "execution_count": 5,
   "metadata": {},
   "outputs": [],
   "source": [
    "# fit leak current to yield an equilibrium potential of -70 mV and\n",
    "# a total membrane time-scale of 10 ms (with channel opening \n",
    "# probabilities evaluated at -70 mV)\n",
    "ph_tree.fitLeakCurrent(-70., 10.)"
   ]
  },
  {
   "cell_type": "markdown",
   "metadata": {},
   "source": [
    "## Inspecting the physiological parameters"
   ]
  },
  {
   "cell_type": "markdown",
   "metadata": {},
   "source": [
    "We can now inspect the contents of various `PhysNode` instances:"
   ]
  },
  {
   "cell_type": "code",
   "execution_count": 6,
   "metadata": {},
   "outputs": [
    {
     "name": "stdout",
     "output_type": "stream",
     "text": [
      "SNode 1 --- (r_a = 9.999999999999999e-05 MOhm*cm, g_Na_Ta = 1710000.0 uS/cm^2, g_Kv3_1 = 450000.0 uS/cm^2, g_L = 31.54081073184777 uS/cm^2, c_m = 0.8 uF/cm^2)\n"
     ]
    }
   ],
   "source": [
    "# soma node\n",
    "print(ph_tree[1])"
   ]
  },
  {
   "cell_type": "code",
   "execution_count": 7,
   "metadata": {},
   "outputs": [
    {
     "name": "stdout",
     "output_type": "stream",
     "text": [
      "SNode 115, Parent: SNode 114 --- (r_a = 9.999999999999999e-05 MOhm*cm, g_Kv3_1 = 45000.0 uS/cm^2, g_L = 123.19344287327351 uS/cm^2, c_m = 1.2800000000000002 uF/cm^2)\n"
     ]
    }
   ],
   "source": [
    "# dendrite node\n",
    "print(ph_tree[115])"
   ]
  },
  {
   "cell_type": "markdown",
   "metadata": {},
   "source": [
    "Or, to get the full information on conductances and reversal potentials of membrane currents:"
   ]
  },
  {
   "cell_type": "code",
   "execution_count": 8,
   "metadata": {},
   "outputs": [
    {
     "name": "stdout",
     "output_type": "stream",
     "text": [
      "{'Na_Ta': [1710000.0, 50.0], 'Kv3_1': [450000.0, -85.0], 'L': [31.54081073184777, -48.638804987272536]}\n"
     ]
    }
   ],
   "source": [
    "# soma node\n",
    "print(ph_tree[1].currents)"
   ]
  },
  {
   "cell_type": "code",
   "execution_count": 9,
   "metadata": {},
   "outputs": [
    {
     "name": "stdout",
     "output_type": "stream",
     "text": [
      "{'Kv3_1': [45000.0, -85.0], 'L': [123.19344287327351, -69.41475491536458]}\n"
     ]
    }
   ],
   "source": [
    "# dendrite node\n",
    "print(ph_tree[115].currents)"
   ]
  },
  {
   "cell_type": "markdown",
   "metadata": {},
   "source": [
    "## Active dendrites compared to closest passive version"
   ]
  },
  {
   "cell_type": "markdown",
   "metadata": {},
   "source": [
    "Imagine we aim to investigate the role of active dendritic channels, and to that purpose want to compare the active dendritic tree with a passive version. We may compute the leak conductance of this \"passified\" tree as the sum of all ion channel conductance evaluate at the equilibrium potential. The equilibrium potentials is stored on the tree using `PhysTree.setEEq()`:"
   ]
  },
  {
   "cell_type": "code",
   "execution_count": 10,
   "metadata": {},
   "outputs": [],
   "source": [
    "ph_tree.setEEq(-70.)"
   ]
  },
  {
   "cell_type": "markdown",
   "metadata": {},
   "source": [
    "To obtain the passified tree, we use `PhysTree.asPassiveMembrane()`. However, this function will overwrite the parameters of the original nodes, if we want to maintain the initial tree, we have to copy it first:"
   ]
  },
  {
   "cell_type": "code",
   "execution_count": 11,
   "metadata": {},
   "outputs": [],
   "source": [
    "# copy the initial tree\n",
    "ph_tree_pas = ph_tree.__copy__()\n",
    "# set to passive (except the soma)\n",
    "ph_tree_pas.asPassiveMembrane([n for n in ph_tree_pas if n.index != 1])"
   ]
  },
  {
   "cell_type": "markdown",
   "metadata": {},
   "source": [
    "We can now inspect the nodes:"
   ]
  },
  {
   "cell_type": "code",
   "execution_count": 12,
   "metadata": {},
   "outputs": [
    {
     "name": "stdout",
     "output_type": "stream",
     "text": [
      "SNode 1 --- (r_a = 9.999999999999999e-05 MOhm*cm, g_Na_Ta = 1710000.0 uS/cm^2, g_Kv3_1 = 450000.0 uS/cm^2, g_L = 31.54081073184777 uS/cm^2, c_m = 0.8 uF/cm^2)\n"
     ]
    }
   ],
   "source": [
    "# soma node\n",
    "print(ph_tree_pas[1])"
   ]
  },
  {
   "cell_type": "code",
   "execution_count": 13,
   "metadata": {},
   "outputs": [
    {
     "name": "stdout",
     "output_type": "stream",
     "text": [
      "SNode 115, Parent: SNode 114 --- (r_a = 9.999999999999999e-05 MOhm*cm, g_L = 128.0 uS/cm^2, c_m = 1.2800000000000002 uF/cm^2)\n"
     ]
    }
   ],
   "source": [
    "# dendrite node\n",
    "print(ph_tree_pas[115])"
   ]
  },
  {
   "cell_type": "markdown",
   "metadata": {},
   "source": [
    "And the currents:"
   ]
  },
  {
   "cell_type": "code",
   "execution_count": 14,
   "metadata": {},
   "outputs": [
    {
     "name": "stdout",
     "output_type": "stream",
     "text": [
      "{'Na_Ta': [1710000.0, 50.0], 'Kv3_1': [450000.0, -85.0], 'L': [31.54081073184777, -48.638804987272536]}\n"
     ]
    }
   ],
   "source": [
    "# soma node\n",
    "print(ph_tree_pas[1].currents)"
   ]
  },
  {
   "cell_type": "code",
   "execution_count": 15,
   "metadata": {},
   "outputs": [
    {
     "name": "stdout",
     "output_type": "stream",
     "text": [
      "{'L': [128.0, -70.0]}\n"
     ]
    }
   ],
   "source": [
    "# dendrite node\n",
    "print(ph_tree_pas[115].currents)"
   ]
  },
  {
   "cell_type": "markdown",
   "metadata": {},
   "source": [
    "Comparing this to the previously shown nodes of the full tree, we see that the dendrite nodes have been \"passified\"."
   ]
  },
  {
   "cell_type": "markdown",
   "metadata": {},
   "source": [
    "## Computational tree"
   ]
  },
  {
   "cell_type": "markdown",
   "metadata": {},
   "source": [
    "The computational tree in `PhysTree` works the same as in `MorphTree`, except that it's derivation also considers changes in physiological parameters, next to changes in morphological parameters."
   ]
  },
  {
   "cell_type": "code",
   "execution_count": 16,
   "metadata": {},
   "outputs": [
    {
     "name": "stdout",
     "output_type": "stream",
     "text": [
      "432 nodes in original tree\n",
      "98 nodes in computational tree\n"
     ]
    }
   ],
   "source": [
    "ph_tree.setCompTree()\n",
    "# compare number of nodes in computational tree and original tree\n",
    "ph_tree.treetype = 'original'\n",
    "print('%d nodes in original tree'%(len(ph_tree)))\n",
    "ph_tree.treetype = 'computational'\n",
    "print('%d nodes in computational tree'%(len(ph_tree)))"
   ]
  },
  {
   "cell_type": "markdown",
   "metadata": {},
   "source": [
    "Compare this to the number of nodes in the computational tree induced solely by the morphological parameters:"
   ]
  },
  {
   "cell_type": "code",
   "execution_count": 17,
   "metadata": {},
   "outputs": [
    {
     "name": "stdout",
     "output_type": "stream",
     "text": [
      "87 nodes in computational `MorphTree`\n"
     ]
    }
   ],
   "source": [
    "from neat import MorphTree\n",
    "m_tree = MorphTree('morph/L23PyrBranco.swc')\n",
    "m_tree.setCompTree()\n",
    "m_tree.treetype = 'computational'\n",
    "print('%d nodes in computational `MorphTree`'%len(m_tree))"
   ]
  },
  {
   "cell_type": "markdown",
   "metadata": {},
   "source": [
    "Note: only call this `PhysTree.setCompTree` when all physiological parameters have been set, and ***never*** change parameters stored at individual nodes when `treetype` is ``computational``, as this leads to the computational tree being inconsistent with the original tree."
   ]
  },
  {
   "cell_type": "markdown",
   "metadata": {},
   "source": [
    "# Simulate models with `neat.NeuronSimTree`"
   ]
  },
  {
   "cell_type": "markdown",
   "metadata": {},
   "source": [
    "NEAT implements an interface to the NEURON simulator, so that models defined by neat-trees can be simulated with the NEURON simulator. To have access to this functionality, the NEURON simulator and it's Python interface need to be installed.\n",
    "\n",
    "The class `neat.NeuronSimTree` implements this interface, and inherits from `neat.PhysTree`. Hence, a `NeuronSimTree` can be defined in the same way as a `PhysTree`."
   ]
  },
  {
   "cell_type": "code",
   "execution_count": 18,
   "metadata": {},
   "outputs": [],
   "source": [
    "from neat import NeuronSimTree\n",
    "sim_tree = NeuronSimTree(file_n='morph/L23PyrBranco.swc')\n",
    "sim_tree.setPhysiology(lambda x: .8 if x < 60. else 1.6*.8, 100.*1e-6)\n",
    "# ... etc"
   ]
  },
  {
   "cell_type": "markdown",
   "metadata": {},
   "source": [
    "## The `__copy__` function\n",
    "\n",
    "If a different type of tree is needed than the one originality defined, a handy feature of NEAT's copy function can be used: we can specify the type of tree we want as a keyword argument to `neat.MorphTree.__copy__()`. This function then copies all attributes that both tree classes have in common. Since `NeuronSimTree` is a subclass of `PhysTree`, we end up with an identical tree, but with additional functions and associated attributes to simulate the associated NEURON model."
   ]
  },
  {
   "cell_type": "code",
   "execution_count": 19,
   "metadata": {},
   "outputs": [],
   "source": [
    "sim_tree = ph_tree.__copy__(new_tree=NeuronSimTree())"
   ]
  },
  {
   "cell_type": "markdown",
   "metadata": {},
   "source": [
    "## Setting up a simulation\n",
    "\n",
    "First, we must initialize the tree structure into hoc."
   ]
  },
  {
   "cell_type": "code",
   "execution_count": 20,
   "metadata": {},
   "outputs": [],
   "source": [
    "sim_tree.initModel(t_calibrate=100.)"
   ]
  },
  {
   "cell_type": "markdown",
   "metadata": {},
   "source": [
    "We may then add inputs to the tree. NEAT implements a number of standard synapse types and current injections. Let's apply a DC current step to the soma and also give some input to a conductance-based dendritic synapse."
   ]
  },
  {
   "cell_type": "code",
   "execution_count": 21,
   "metadata": {},
   "outputs": [],
   "source": [
    "# somatic DC current step with amplitude = 0.100 nA, delay = 5. ms and duration = 50. ms\n",
    "sim_tree.addIClamp((1.,.5), 0.010, 5., 50.)\n",
    "# dendritic synapse with rise resp. decay times of .2 resp 3. ms and reversal of 0 mV\n",
    "sim_tree.addDoubleExpSynapse((115,.8), .2, 3., 0.)\n",
    "# give the dendritic synapse a weight of 0.005 uS and connect it to an input spike train\n",
    "sim_tree.setSpikeTrain(0, 0.005, [20.,22.,28.,29.,30.])"
   ]
  },
  {
   "cell_type": "markdown",
   "metadata": {},
   "source": [
    "We will record voltage at the somatic and dendritic site. Recording locations should be stored under the name 'rec locs'."
   ]
  },
  {
   "cell_type": "code",
   "execution_count": 22,
   "metadata": {},
   "outputs": [],
   "source": [
    "sim_tree.storeLocs([(1,.5), (115,.8)], name='rec locs')"
   ]
  },
  {
   "cell_type": "markdown",
   "metadata": {},
   "source": [
    "We can then run the model for $60$ ms and plot the results:"
   ]
  },
  {
   "cell_type": "code",
   "execution_count": 23,
   "metadata": {},
   "outputs": [
    {
     "data": {
      "image/png": "[encoded data removed]",
      "text/plain": [
       "<Figure size 432x288 with 1 Axes>"
      ]
     },
     "metadata": {
      "needs_background": "light"
     },
     "output_type": "display_data"
    }
   ],
   "source": [
    "# simulate the model and delete all hoc-variables afterwards\n",
    "res = sim_tree.run(60.)\n",
    "sim_tree.deleteModel()\n",
    "\n",
    "# plot the results\n",
    "import matplotlib.pyplot as pl\n",
    "pl.plot(res['t'], res['v_m'][0], c='r', label=r'$v_{soma}$')\n",
    "pl.plot(res['t'], res['v_m'][1], c='b', label=r'$v_{dend}$')\n",
    "pl.legend(loc=0)\n",
    "pl.show()"
   ]
  },
  {
   "cell_type": "markdown",
   "metadata": {},
   "source": [
    "## User defined point-process\n",
    "\n",
    "Note that it is very easy to add user defined point-process to the `NeuronSimTree`. In fact, all any of the default functions to add point-process do, is defining a `neat.MorphLoc` based on the input, so that the point process is added at the right coordinates no matter whether `treetype` was 'original' or 'computational'. All hoc sections are stored in the dict `self.sections` which has as keys the node indices. Hence, in pseudo code one would do:\n",
    "\n",
    "```\n",
    "loc = neat.MorphLoc((node.index, x-coordinate), sim_tree)\n",
    "\n",
    "# define the point process at the correct location\n",
    "pp = h.user_defined_point_process(sim_tree.sections[loc['node']](loc['x']))\n",
    "\n",
    "# set its parameters\n",
    "pp.param1 = val1\n",
    "pp.param2 = val2\n",
    "...\n",
    "\n",
    "# store the point process (e.g. if it is a synapse in `sim_tree.syns`)\n",
    "sim_tree.syns.append(pp)\n",
    "```"
   ]
  },
  {
   "cell_type": "markdown",
   "metadata": {},
   "source": [
    "# Evaluate impedance matrices with `neat.GreensTree`\n",
    "\n",
    "The class `neat.GreensTree` inherits from `neat.PhysTree` and implements Koch's algorithm [-@Koch1984] to calculate impedances in the Fourrier domain. For a given input current of frequency $\\omega$ at location $x$, the impedance gives the linearized voltage response at a location $x^{\\prime}$:\n",
    "\\begin{align}\n",
    "v_{x^{\\prime}}(\\omega) = z_{x^{\\prime}x}(\\omega) \\, i_x(\\omega).\n",
    "\\end{align}\n",
    "Applying the inverse Fourrier transform yields a convolution in the the time domain:\n",
    "\\begin{align}\n",
    "v_{x^{\\prime}}(t) = z_{x^{\\prime}x}(t) \\ast i_x(t),\n",
    "\\end{align}\n",
    "with we call $z_{x^{\\prime}x}(t) = FT^{-1} \\left(  z_{x^{\\prime}x}(\\omega) \\right)$ the impedance kernel. The steady state impedance is then:\n",
    "\\begin{align}\n",
    "z_{x^{\\prime}x} = \\int_0^{\\infty} \\mathrm{d}t \\, z_{x^{\\prime}x}(t) = z_{x^{\\prime}x}(\\omega = 0).\n",
    "\\end{align}\n",
    "\n",
    "## Computing an impedance kernel"
   ]
  },
  {
   "cell_type": "markdown",
   "metadata": {},
   "source": [
    "To compute an impedance kernel, we first have to initialize the `GreensTree`:"
   ]
  },
  {
   "cell_type": "code",
   "execution_count": 24,
   "metadata": {},
   "outputs": [],
   "source": [
    "from neat import GreensTree\n",
    "greens_tree = ph_tree.__copy__(new_tree=GreensTree())"
   ]
  },
  {
   "cell_type": "markdown",
   "metadata": {},
   "source": [
    "For the calculation to proceed efficiently, `GreensTree` first sets effective, frequency-dependent boundary conditions for each cylindrical section. Hence we must specify the frequencies at which we want to evaluate impedances. If we aim to also compute temporal kernels, `neat.FourrierTools` is a handy tool to obtain the correct frequencies. Suppose for instance that we aim to compute an impedance kernels from $0$ to $50$ ms:"
   ]
  },
  {
   "cell_type": "code",
   "execution_count": 25,
   "metadata": {},
   "outputs": [],
   "source": [
    "from neat import FourrierTools\n",
    "import numpy as np\n",
    "# create a Fourriertools instance with the temporal array on which to evaluate the impedance kernel\n",
    "t_arr = np.linspace(0.,50.,1000)\n",
    "ft = FourrierTools(t_arr)\n",
    "# appropriate frequencies are stored in `ft.s`\n",
    "# set the boundary condition for cylindrical segments in `greens_tree`\n",
    "greens_tree.setImpedance(ft.s)"
   ]
  },
  {
   "cell_type": "markdown",
   "metadata": {},
   "source": [
    "We can now compute for instance the impedance kernel between dendritic and somatic site:"
   ]
  },
  {
   "cell_type": "code",
   "execution_count": 26,
   "metadata": {},
   "outputs": [
    {
     "data": {
      "image/png": "[encoded data removed]",
      "text/plain": [
       "<Figure size 432x288 with 1 Axes>"
      ]
     },
     "metadata": {
      "needs_background": "light"
     },
     "output_type": "display_data"
    }
   ],
   "source": [
    "z_trans = greens_tree.calcZF((1,.5), (115,.8))\n",
    "\n",
    "# plot the kernel\n",
    "pl.plot(ft.s.imag, z_trans.real, 'b')\n",
    "pl.plot(ft.s.imag, z_trans.imag, 'r')\n",
    "pl.xlim((-1000.,1000.))\n",
    "pl.show()"
   ]
  },
  {
   "cell_type": "markdown",
   "metadata": {},
   "source": [
    "We can also obtain this kernel in the time domain with the `FourrierTools` object:"
   ]
  },
  {
   "cell_type": "code",
   "execution_count": 27,
   "metadata": {},
   "outputs": [
    {
     "data": {
      "image/png": "[encoded data removed]",
      "text/plain": [
       "<Figure size 432x288 with 1 Axes>"
      ]
     },
     "metadata": {
      "needs_background": "light"
     },
     "output_type": "display_data"
    }
   ],
   "source": [
    "# time domain kernel\n",
    "tt, zt = ft.ftInv(z_trans)\n",
    "\n",
    "# comparison with NEURON simulation\n",
    "sim_tree.initModel(t_calibrate=300.)\n",
    "i_amp, i_dur = 0.001, 0.1\n",
    "sim_tree.addIClamp((115,.8), i_amp, 0., i_dur)\n",
    "res = sim_tree.run(50.)\n",
    "sim_tree.deleteModel()\n",
    "res['v_m'] -= res['v_m'][:,-1]\n",
    "res['v_m'] /= (i_amp*1e-3*i_dur)\n",
    "\n",
    "# plot the kernel\n",
    "pl.plot(tt, zt.real, 'b', label='computed')\n",
    "pl.plot(res['t'], res['v_m'][0], 'r--', label='simulated')\n",
    "pl.legend(loc=0)\n",
    "pl.show()"
   ]
  },
  {
   "cell_type": "markdown",
   "metadata": {},
   "source": [
    "## Computing the impedance matrix\n",
    "\n",
    "While `GreensTree.calcZF()` could be used to explicitely compute the impedance matrix, `GreensTree.calcImpedanceMatrix()` uses the symmetry and transitivity properties of impedance kernels to further optimize the calculation."
   ]
  },
  {
   "cell_type": "code",
   "execution_count": 28,
   "metadata": {},
   "outputs": [],
   "source": [
    "z_locs = [(1,.5), (115,.8)]\n",
    "z_mat = greens_tree.calcImpedanceMatrix(z_locs)"
   ]
  },
  {
   "cell_type": "markdown",
   "metadata": {},
   "source": [
    "This matrix has shape ``(len(ft.s), len(z_locs), len(z_locs))``. The zero-frequency component is at `ft.ind_0s`. Hence, the following gives the steady state impedance matrix:"
   ]
  },
  {
   "cell_type": "code",
   "execution_count": 29,
   "metadata": {},
   "outputs": [
    {
     "name": "stdout",
     "output_type": "stream",
     "text": [
      "[[ 88.07091747+0.j  83.93186356+0.j]\n",
      " [ 83.93186356+0.j 183.59769195+0.j]]\n"
     ]
    }
   ],
   "source": [
    "print(z_mat[ft.ind_0s])"
   ]
  },
  {
   "cell_type": "markdown",
   "metadata": {},
   "source": [
    "# Simplify a model with `neat.CompartmentFitter`\n",
    "\n",
    "The class `neat.CompartmentFitter` is used to obtain simplified compartmental models, where the parameters of the compartments are optimized to reproduce voltages at any set of locations on the morphology. It is initialized based on a `neat.PhysTree`:"
   ]
  },
  {
   "cell_type": "code",
   "execution_count": 30,
   "metadata": {},
   "outputs": [],
   "source": [
    "from neat import CompartmentFitter\n",
    "c_fit = CompartmentFitter(ph_tree)"
   ]
  },
  {
   "cell_type": "markdown",
   "metadata": {},
   "source": [
    "The function `CompartmentFitter.fitModel()` then returns a `neat.CompartmentTree` object defining the simplified model, with the parameters of the optimized compartments:"
   ]
  },
  {
   "cell_type": "code",
   "execution_count": 62,
   "metadata": {},
   "outputs": [],
   "source": [
    "# compute a simplified tree containing a somatic and dendritic compartment\n",
    "f_locs = [(1,.5), (115,.8)]\n",
    "c_tree = c_fit.fitModel(f_locs, use_all_chans_for_passive=False)"
   ]
  },
  {
   "cell_type": "markdown",
   "metadata": {},
   "source": [
    "## The simplified model `neat.CompartmentTree`\n",
    "\n",
    "Each `neat.CompartmentNode` in the `CompartmentTree` stores the optimized parameters of the compartment, and the coupling conductance with it's parent node."
   ]
  },
  {
   "cell_type": "code",
   "execution_count": 63,
   "metadata": {},
   "outputs": [
    {
     "name": "stdout",
     "output_type": "stream",
     "text": [
      ">>> Tree\n",
      "    SNode 0 --- (g_c = 0.000000000000 uS, g_L = 0.009188301476 uS, g_Na_Ta = 14.378466892343 uS, g_Kv3_1 = 7.000477231569 uS, c = 0.000099142300 uF)\n",
      "    SNode 1, Parent: SNode 0 --- (g_c = 0.009224434868 uS, g_L = 0.000411034483 uS, g_Na_Ta = 0.000000000002 uS, g_Kv3_1 = 0.072296414995 uS, c = 0.000004268327 uF)\n"
     ]
    }
   ],
   "source": [
    "print(c_tree)"
   ]
  },
  {
   "cell_type": "markdown",
   "metadata": {},
   "source": [
    "To keep track of the mapping between compartments and locations, each `CompartmentNode` also has a `loc_ind` attribute, containing the index of the location in the original list given to `CompartmentFitter.fitModel()` (here `f_locs`) to which the compartment is fitted:"
   ]
  },
  {
   "cell_type": "code",
   "execution_count": 64,
   "metadata": {},
   "outputs": [
    {
     "name": "stdout",
     "output_type": "stream",
     "text": [
      "node index: 0, loc index: 0\n",
      "node index: 1, loc index: 1\n"
     ]
    }
   ],
   "source": [
    "# node 0 corresponds to location 0 in `f_locs`\n",
    "print('node index: %d, loc index: %d'%(c_tree[0].index, c_tree[0].loc_ind))\n",
    "# node 1 corresponds to location 1 in `f_locs`\n",
    "print('node index: %d, loc index: %d'%(c_tree[1].index, c_tree[1].loc_ind))"
   ]
  },
  {
   "cell_type": "markdown",
   "metadata": {},
   "source": [
    "Here, these indices correspond, but in general there is ***no*** guarantee this will be the case. A list of 'fake' locations for the compartmental model can also be obtained. These locations contain nothing but the node index and an x-coordinate without meaning."
   ]
  },
  {
   "cell_type": "code",
   "execution_count": 65,
   "metadata": {},
   "outputs": [
    {
     "name": "stdout",
     "output_type": "stream",
     "text": [
      "(0, 0.5) (1, 0.5)\n"
     ]
    }
   ],
   "source": [
    "c_locs = c_tree.getEquivalentLocs()\n",
    "print(c_locs[0], c_locs[1])"
   ]
  },
  {
   "cell_type": "markdown",
   "metadata": {},
   "source": [
    "## Simulate the simplified model with `neat.NeuronCompartmentTree`\n",
    "\n",
    "The simplified model can be simulated directly in NEURON, with the same API as `neat.NeuronSimTree`. To do so, the function `neat.createReducedNeuronModel()` converts the `CompartmentTree` to a `neat.NeuronCompartmentTree`:"
   ]
  },
  {
   "cell_type": "code",
   "execution_count": 67,
   "metadata": {},
   "outputs": [],
   "source": [
    "from neat import createReducedNeuronModel\n",
    "c_sim_tree = createReducedNeuronModel(c_tree)"
   ]
  },
  {
   "cell_type": "markdown",
   "metadata": {},
   "source": [
    "We may now check whether our simplification was successful by running the same simulation for the full and reduced models:"
   ]
  },
  {
   "cell_type": "code",
   "execution_count": 68,
   "metadata": {},
   "outputs": [
    {
     "name": "stdout",
     "output_type": "stream",
     "text": [
      "\n",
      "|-|       0(0-1)\n",
      "  `|       1(0-1)\n",
      "\n"
     ]
    }
   ],
   "source": [
    "# initialize, run and delete the full model, set input locations as stored in `f_locs`\n",
    "sim_tree.initModel(t_calibrate=100.)\n",
    "sim_tree.addIClamp(f_locs[0], .01, 5., 50.)\n",
    "sim_tree.addDoubleExpSynapse(f_locs[1], .2, 3., 0.)\n",
    "sim_tree.setSpikeTrain(0, 0.002, [20.,22.,28.,28.5,29.,30.,31.])\n",
    "sim_tree.storeLocs(f_locs, name='rec locs')\n",
    "res_full = sim_tree.run(60.)\n",
    "sim_tree.deleteModel()\n",
    "\n",
    "# initialize and run the simplified model, set input locations as stored in `c_locs`\n",
    "c_sim_tree.initModel(t_calibrate=100.)\n",
    "c_sim_tree.addIClamp(c_locs[0], 0.01, 5., 50.)\n",
    "c_sim_tree.addDoubleExpSynapse(c_locs[1], .2, 3., 0.)\n",
    "c_sim_tree.setSpikeTrain(0, 0.002, [20.,22.,28.,28.5,29.,30.,31.])\n",
    "c_sim_tree.storeLocs(c_locs, name='rec locs')\n",
    "res_reduced = c_sim_tree.run(60.)\n",
    "# print the hoc topology of the reduced model\n",
    "from neuron import h\n",
    "h.topology()\n",
    "# delete the reduced model\n",
    "c_sim_tree.deleteModel()"
   ]
  },
  {
   "cell_type": "markdown",
   "metadata": {},
   "source": [
    "We compare somatic and dendritic voltages in both models:"
   ]
  },
  {
   "cell_type": "code",
   "execution_count": 69,
   "metadata": {},
   "outputs": [
    {
     "data": {
      "image/png": "[encoded data removed]",
      "text/plain": [
       "<Figure size 432x288 with 1 Axes>"
      ]
     },
     "metadata": {
      "needs_background": "light"
     },
     "output_type": "display_data"
    }
   ],
   "source": [
    "pl.plot(res_full['t'], res_full['v_m'][0], c='DarkGrey', label='full')\n",
    "pl.plot(res_full['t'], res_full['v_m'][1], c='DarkGrey')\n",
    "pl.plot(res_reduced['t'], res_reduced['v_m'][0], 'r--', lw=1.6, label='reduced, soma')\n",
    "pl.plot(res_reduced['t'], res_reduced['v_m'][1], 'b--', lw=1.6, label='reduced, dend')\n",
    "pl.legend(loc=0)\n",
    "pl.show()"
   ]
  },
  {
   "cell_type": "code",
   "execution_count": null,
   "metadata": {},
   "outputs": [],
   "source": []
  }
 ],
 "metadata": {
  "kernelspec": {
   "display_name": "Python 3",
   "language": "python",
   "name": "python3"
  },
  "language_info": {
   "codemirror_mode": {
    "name": "ipython",
    "version": 3
   },
   "file_extension": ".py",
   "mimetype": "text/x-python",
   "name": "python",
   "nbconvert_exporter": "python",
   "pygments_lexer": "ipython3",
   "version": "3.7.6"
  }
 },
 "nbformat": 4,
 "nbformat_minor": 2
}
